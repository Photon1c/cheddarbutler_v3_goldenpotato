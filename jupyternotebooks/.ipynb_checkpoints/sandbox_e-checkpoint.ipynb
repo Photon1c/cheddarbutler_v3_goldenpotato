{
 "cells": [
  {
   "cell_type": "code",
   "execution_count": 1,
   "id": "7b4b9c78",
   "metadata": {},
   "outputs": [
    {
     "ename": "NameError",
     "evalue": "name 'pd' is not defined",
     "output_type": "error",
     "traceback": [
      "\u001b[1;31m---------------------------------------------------------------------------\u001b[0m",
      "\u001b[1;31mNameError\u001b[0m                                 Traceback (most recent call last)",
      "Cell \u001b[1;32mIn[1], line 20\u001b[0m\n\u001b[0;32m     15\u001b[0m     \u001b[38;5;66;03m#test to see if full dataframe can be extracted by printing main frame\u001b[39;00m\n\u001b[0;32m     16\u001b[0m     \u001b[38;5;66;03m#print(dfg, dgl) \u001b[39;00m\n\u001b[0;32m     17\u001b[0m     \u001b[38;5;66;03m#test final list\u001b[39;00m\n\u001b[0;32m     18\u001b[0m     \u001b[38;5;28mprint\u001b[39m(df_final2)\n\u001b[1;32m---> 20\u001b[0m \u001b[43mafter_hours\u001b[49m\u001b[43m(\u001b[49m\u001b[43m)\u001b[49m\n",
      "Cell \u001b[1;32mIn[1], line 2\u001b[0m, in \u001b[0;36mafter_hours\u001b[1;34m()\u001b[0m\n\u001b[0;32m      1\u001b[0m \u001b[38;5;28;01mdef\u001b[39;00m \u001b[38;5;21mafter_hours\u001b[39m():\n\u001b[1;32m----> 2\u001b[0m     df \u001b[38;5;241m=\u001b[39m \u001b[43mpd\u001b[49m\u001b[38;5;241m.\u001b[39mread_html(\u001b[38;5;124m\"\u001b[39m\u001b[38;5;124mhttps://www.marketwatch.com/tools/screener/after-hours\u001b[39m\u001b[38;5;124m\"\u001b[39m)\n\u001b[0;32m      3\u001b[0m     dfg \u001b[38;5;241m=\u001b[39m df[\u001b[38;5;241m0\u001b[39m]\n\u001b[0;32m      4\u001b[0m     \u001b[38;5;66;03m#create new series that keeps only first string value in 'Symbol Symbol' column, discarding anything after space\u001b[39;00m\n",
      "\u001b[1;31mNameError\u001b[0m: name 'pd' is not defined"
     ]
    }
   ],
   "source": [
    "import pandas as pd\n",
    "\n",
    "def after_hours():\n",
    "    df = pd.read_html(\"https://www.marketwatch.com/tools/screener/after-hours\")\n",
    "    dfg = df[0]\n",
    "    #create new series that keeps only first string value in 'Symbol Symbol' column, discarding anything after space\n",
    "    dfgainers = dfg['Symbol  Symbol'].str[:4]\n",
    "    dflosers = df[1]\n",
    "    dflosers2 = dflosers['Symbol  Symbol'].str[:4]\n",
    "    dfgainers2 = dfgainers\n",
    "    df_final = dfgainers2.append(dflosers2)\n",
    "    df_final2 = pd.DataFrame()\n",
    "    df_final2[\"Symbol\"] = df_final\n",
    "    df_final2[\"Symbol\"].to_csv(r'[path to your csv file with stock tickers]')\n",
    "\n",
    "\n",
    "    #test to see if full dataframe can be extracted by printing main frame\n",
    "    #print(dfg, dgl) \n",
    "    #test final list\n",
    "    print(df_final2)\n",
    "    \n",
    "after_hours()"
   ]
  },
  {
   "cell_type": "code",
   "execution_count": null,
   "id": "89320d98",
   "metadata": {},
   "outputs": [],
   "source": []
  }
 ],
 "metadata": {
  "kernelspec": {
   "display_name": "Python 3",
   "language": "python",
   "name": "python3"
  },
  "language_info": {
   "codemirror_mode": {
    "name": "ipython",
    "version": 3
   },
   "file_extension": ".py",
   "mimetype": "text/x-python",
   "name": "python",
   "nbconvert_exporter": "python",
   "pygments_lexer": "ipython3",
   "version": "3.8.8"
  }
 },
 "nbformat": 4,
 "nbformat_minor": 5
}
