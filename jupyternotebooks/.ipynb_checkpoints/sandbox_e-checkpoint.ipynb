{
 "cells": [
  {
   "cell_type": "code",
   "execution_count": 6,
   "id": "a5dd3ce5",
   "metadata": {},
   "outputs": [
    {
     "name": "stdout",
     "output_type": "stream",
     "text": [
      "Enter stock tickers separated by a comma: \n",
      "TSLA\n"
     ]
    },
    {
     "ename": "TypeError",
     "evalue": "copy() takes no arguments (1 given)",
     "output_type": "error",
     "traceback": [
      "\u001b[1;31m---------------------------------------------------------------------------\u001b[0m",
      "\u001b[1;31mTypeError\u001b[0m                                 Traceback (most recent call last)",
      "Cell \u001b[1;32mIn[6], line 52\u001b[0m\n\u001b[0;32m     49\u001b[0m     Symbols\u001b[38;5;241m.\u001b[39mcopy(stock_list)\n\u001b[0;32m     50\u001b[0m     \u001b[38;5;28mprint\u001b[39m(Symbols)\n\u001b[1;32m---> 52\u001b[0m \u001b[43mreplicate_list_creation\u001b[49m\u001b[43m(\u001b[49m\u001b[43m)\u001b[49m\n",
      "Cell \u001b[1;32mIn[6], line 49\u001b[0m, in \u001b[0;36mreplicate_list_creation\u001b[1;34m()\u001b[0m\n\u001b[0;32m     46\u001b[0m \u001b[38;5;28;01mdef\u001b[39;00m \u001b[38;5;21mreplicate_list_creation\u001b[39m():\n\u001b[0;32m     47\u001b[0m     \u001b[38;5;66;03m#takes user input and converts it to data frame\u001b[39;00m\n\u001b[0;32m     48\u001b[0m     stock_list \u001b[38;5;241m=\u001b[39m \u001b[38;5;28minput\u001b[39m(\u001b[38;5;124m\"\u001b[39m\u001b[38;5;124mEnter stock tickers separated by a comma: \u001b[39m\u001b[38;5;130;01m\\n\u001b[39;00m\u001b[38;5;124m\"\u001b[39m)\u001b[38;5;241m.\u001b[39msplit(\u001b[38;5;124m'\u001b[39m\u001b[38;5;124m, \u001b[39m\u001b[38;5;124m'\u001b[39m)\n\u001b[1;32m---> 49\u001b[0m     \u001b[43mSymbols\u001b[49m\u001b[38;5;241;43m.\u001b[39;49m\u001b[43mcopy\u001b[49m\u001b[43m(\u001b[49m\u001b[43mstock_list\u001b[49m\u001b[43m)\u001b[49m\n\u001b[0;32m     50\u001b[0m     \u001b[38;5;28mprint\u001b[39m(Symbols)\n",
      "\u001b[1;31mTypeError\u001b[0m: copy() takes no arguments (1 given)"
     ]
    }
   ],
   "source": [
    "import alpaca_trade_api as tradeapi\n",
    "import config\n",
    "import logging\n",
    "from alpaca_trade_api.rest import REST, TimeFrame\n",
    "import datetime as dt\n",
    "import pandas as pd\n",
    "from datetime import date\n",
    "import datetime\n",
    "import yfinance as yf\n",
    "\n",
    "quick_list =[]\n",
    "\n",
    "def user_list():\n",
    "    #takes user input and converts it to data frame\n",
    "    stock_list = input(\"Enter stock tickers separated by a comma: \\n\").split(', ')\n",
    "    quick_list.append(stock_list)\n",
    "    out_quick = pd.DataFrame(quick_list).T\n",
    "    out_quick.rename(columns={ 0:'symbol'}, inplace=True)\n",
    "    print(out_quick)\n",
    "\n",
    "    \n",
    "\n",
    "\n",
    "\n",
    "\n",
    "def after_hours():\n",
    "    df = pd.read_html(\"https://www.marketwatch.com/tools/screener/after-hours\")\n",
    "    dfg = df[0]\n",
    "    #create new series that keeps only first string value in 'Symbol Symbol' column, discarding anything after space\n",
    "    dfgainers = dfg['Symbol  Symbol'].str[:4]\n",
    "    dflosers = df[1]\n",
    "    dflosers2 = dflosers['Symbol  Symbol'].str[:4]\n",
    "    dfgainers2 = dfgainers\n",
    "    df_final = dfgainers2.append(dflosers2)\n",
    "    df_final2 = pd.DataFrame()\n",
    "    df_final2[\"Symbol\"] = df_final\n",
    "    df_final2[\"Symbol\"].to_csv(r'[path to your csv file with stock tickers]')\n",
    "\n",
    "\n",
    "    #test to see if full dataframe can be extracted by printing main frame\n",
    "    #print(dfg, dgl) \n",
    "    #test final list\n",
    "    print(df_final2)\n",
    "    \n",
    "Symbols = []    \n",
    "def replicate_list_creation():\n",
    "    #takes user input and converts it to data frame\n",
    "    stock_list = input(\"Enter stock tickers separated by a comma: \\n\").split(', ')\n",
    "    Symbols.extend(stock_list)\n",
    "    print(Symbols)\n",
    "\n",
    "replicate_list_creation()\n",
    "    \n"
   ]
  },
  {
   "cell_type": "code",
   "execution_count": 13,
   "id": "d197d49a",
   "metadata": {},
   "outputs": [
    {
     "name": "stdout",
     "output_type": "stream",
     "text": [
      "['__add__', '__class__', '__contains__', '__delattr__', '__delitem__', '__dir__', '__doc__', '__eq__', '__format__', '__ge__', '__getattribute__', '__getitem__', '__gt__', '__hash__', '__iadd__', '__imul__', '__init__', '__init_subclass__', '__iter__', '__le__', '__len__', '__lt__', '__mul__', '__ne__', '__new__', '__reduce__', '__reduce_ex__', '__repr__', '__reversed__', '__rmul__', '__setattr__', '__setitem__', '__sizeof__', '__str__', '__subclasshook__', 'append', 'clear', 'copy', 'count', 'extend', 'index', 'insert', 'pop', 'remove', 'reverse', 'sort']\n"
     ]
    }
   ],
   "source": [
    "print(dir(Symbols))"
   ]
  },
  {
   "cell_type": "code",
   "execution_count": null,
   "id": "10d4f727",
   "metadata": {},
   "outputs": [],
   "source": []
  }
 ],
 "metadata": {
  "kernelspec": {
   "display_name": "Python 3",
   "language": "python",
   "name": "python3"
  },
  "language_info": {
   "codemirror_mode": {
    "name": "ipython",
    "version": 3
   },
   "file_extension": ".py",
   "mimetype": "text/x-python",
   "name": "python",
   "nbconvert_exporter": "python",
   "pygments_lexer": "ipython3",
   "version": "3.8.8"
  }
 },
 "nbformat": 4,
 "nbformat_minor": 5
}
