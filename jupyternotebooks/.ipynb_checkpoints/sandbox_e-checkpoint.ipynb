{
 "cells": [
  {
   "cell_type": "code",
   "execution_count": 12,
   "id": "a5dd3ce5",
   "metadata": {},
   "outputs": [
    {
     "name": "stdout",
     "output_type": "stream",
     "text": [
      "Enter stock tickers separated by a comma: \n",
      "F\n",
      "[['F']]\n"
     ]
    }
   ],
   "source": [
    "import alpaca_trade_api as tradeapi\n",
    "import config\n",
    "import logging\n",
    "from alpaca_trade_api.rest import REST, TimeFrame\n",
    "import datetime as dt\n",
    "import pandas as pd\n",
    "from datetime import date\n",
    "import datetime\n",
    "import yfinance as yf\n",
    "\n",
    "quick_list =[]\n",
    "\n",
    "def user_list():\n",
    "    #takes user input and converts it to data frame\n",
    "    stock_list = input(\"Enter stock tickers separated by a comma: \\n\").split(', ')\n",
    "    quick_list.append(stock_list)\n",
    "    out_quick = pd.DataFrame(quick_list).T\n",
    "    out_quick.rename(columns={ 0:'symbol'}, inplace=True)\n",
    "    print(out_quick)\n",
    "\n",
    "    \n",
    "\n",
    "\n",
    "\n",
    "\n",
    "def after_hours():\n",
    "    df = pd.read_html(\"https://www.marketwatch.com/tools/screener/after-hours\")\n",
    "    dfg = df[0]\n",
    "    #create new series that keeps only first string value in 'Symbol Symbol' column, discarding anything after space\n",
    "    dfgainers = dfg['Symbol  Symbol'].str[:4]\n",
    "    dflosers = df[1]\n",
    "    dflosers2 = dflosers['Symbol  Symbol'].str[:4]\n",
    "    dfgainers2 = dfgainers\n",
    "    df_final = dfgainers2.append(dflosers2)\n",
    "    df_final2 = pd.DataFrame()\n",
    "    df_final2[\"Symbol\"] = df_final\n",
    "    df_final2[\"Symbol\"].to_csv(r'[path to your csv file with stock tickers]')\n",
    "\n",
    "\n",
    "    #test to see if full dataframe can be extracted by printing main frame\n",
    "    #print(dfg, dgl) \n",
    "    #test final list\n",
    "    print(df_final2)\n",
    "    \n",
    "Symbols = []    \n",
    "def replicate_list_creation():\n",
    "    #takes user input and converts it to data frame\n",
    "    stock_list = input(\"Enter stock tickers separated by a comma: \\n\").split(', ')\n",
    "    print(stock_list)\n",
    "replicate_list_creation()\n",
    "    \n"
   ]
  },
  {
   "cell_type": "code",
   "execution_count": 13,
   "id": "d197d49a",
   "metadata": {},
   "outputs": [
    {
     "name": "stdout",
     "output_type": "stream",
     "text": [
      "['__add__', '__class__', '__contains__', '__delattr__', '__delitem__', '__dir__', '__doc__', '__eq__', '__format__', '__ge__', '__getattribute__', '__getitem__', '__gt__', '__hash__', '__iadd__', '__imul__', '__init__', '__init_subclass__', '__iter__', '__le__', '__len__', '__lt__', '__mul__', '__ne__', '__new__', '__reduce__', '__reduce_ex__', '__repr__', '__reversed__', '__rmul__', '__setattr__', '__setitem__', '__sizeof__', '__str__', '__subclasshook__', 'append', 'clear', 'copy', 'count', 'extend', 'index', 'insert', 'pop', 'remove', 'reverse', 'sort']\n"
     ]
    }
   ],
   "source": [
    "print(dir(Symbols))"
   ]
  },
  {
   "cell_type": "code",
   "execution_count": null,
   "id": "985ba2b7",
   "metadata": {},
   "outputs": [],
   "source": []
  }
 ],
 "metadata": {
  "kernelspec": {
   "display_name": "Python 3",
   "language": "python",
   "name": "python3"
  }
 },
 "nbformat": 4,
 "nbformat_minor": 5
}
