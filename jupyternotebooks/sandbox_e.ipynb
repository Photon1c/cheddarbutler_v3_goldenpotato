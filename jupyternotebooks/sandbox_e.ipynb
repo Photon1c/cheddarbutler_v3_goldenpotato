{
 "cells": [
  {
   "cell_type": "code",
   "execution_count": 13,
   "id": "a5dd3ce5",
   "metadata": {},
   "outputs": [
    {
     "name": "stdout",
     "output_type": "stream",
     "text": [
      "<bound method NDFrame.keys of                                                    0\n",
      "0  Position({   'asset_class': 'us_equity',\\n    ...>\n"
     ]
    }
   ],
   "source": [
    "import alpaca_trade_api as tradeapi\n",
    "import config\n",
    "import logging\n",
    "from alpaca_trade_api.rest import REST, TimeFrame\n",
    "import datetime as dt\n",
    "import pandas as pd\n",
    "from datetime import date\n",
    "import datetime\n",
    "import yfinance as yf\n",
    "\n",
    "\n",
    "api = tradeapi.REST(key_id=config.LIVE_API_KEY, secret_key=config.LIVE_SECRET_KEY, api_version='v2',\n",
    "                                        base_url=config.LIVE_API_BASE_URL)\n",
    "\n",
    "quick_list =[]\n",
    "\n",
    "def user_list():\n",
    "    #takes user input and converts it to data frame\n",
    "    stock_list = input(\"Enter stock tickers separated by a comma: \\n\").split(', ')\n",
    "    quick_list.append(stock_list)\n",
    "    out_quick = pd.DataFrame(quick_list).T\n",
    "    out_quick.rename(columns={ 0:'symbol'}, inplace=True)\n",
    "    print(out_quick)\n",
    "\n",
    "    \n",
    "\n",
    "\n",
    "\n",
    "\n",
    "def after_hours():\n",
    "    df = pd.read_html(\"https://www.marketwatch.com/tools/screener/after-hours\")\n",
    "    dfg = df[0]\n",
    "    #create new series that keeps only first string value in 'Symbol Symbol' column, discarding anything after space\n",
    "    dfgainers = dfg['Symbol  Symbol'].str[:4]\n",
    "    dflosers = df[1]\n",
    "    dflosers2 = dflosers['Symbol  Symbol'].str[:4]\n",
    "    dfgainers2 = dfgainers\n",
    "    df_final = dfgainers2.append(dflosers2)\n",
    "    df_final2 = pd.DataFrame()\n",
    "    df_final2[\"Symbol\"] = df_final\n",
    "    df_final2[\"Symbol\"].to_csv(r'[path to your csv file with stock tickers]')\n",
    "\n",
    "\n",
    "    #test to see if full dataframe can be extracted by printing main frame\n",
    "    #print(dfg, dgl) \n",
    "    #test final list\n",
    "    print(df_final2)\n",
    "    \n",
    "Symbols = []    \n",
    "def replicate_list_creation():\n",
    "    #takes user input and converts it to data frame\n",
    "    stock_list = input(\"Enter stock tickers separated by a comma: \\n\").split(', ')\n",
    "    Symbols.extend(stock_list)\n",
    "    print(Symbols)\n",
    "\n",
    "\n",
    "    \n",
    "def sell_function():\n",
    "    #get list of positions in portfolio\n",
    "    positions = api.list_positions()\n",
    "    positions_df = pd.DataFrame(positions)\n",
    "    print(positions_df.keys)\n",
    "sell_function()\n",
    "    \n"
   ]
  },
  {
   "cell_type": "code",
   "execution_count": 19,
   "id": "d197d49a",
   "metadata": {},
   "outputs": [
    {
     "ename": "SyntaxError",
     "evalue": "invalid syntax (<ipython-input-19-2d29c1c3a4fe>, line 1)",
     "output_type": "error",
     "traceback": [
      "\u001b[1;36m  Cell \u001b[1;32mIn[19], line 1\u001b[1;36m\u001b[0m\n\u001b[1;33m    python ../start.py\u001b[0m\n\u001b[1;37m            ^\u001b[0m\n\u001b[1;31mSyntaxError\u001b[0m\u001b[1;31m:\u001b[0m invalid syntax\n"
     ]
    }
   ],
   "source": [
    "python ../start.py"
   ]
  },
  {
   "cell_type": "code",
   "execution_count": null,
   "id": "10d4f727",
   "metadata": {},
   "outputs": [],
   "source": []
  }
 ],
 "metadata": {
  "kernelspec": {
   "display_name": "Python 3",
   "language": "python",
   "name": "python3"
  },
  "language_info": {
   "codemirror_mode": {
    "name": "ipython",
    "version": 3
   },
   "file_extension": ".py",
   "mimetype": "text/x-python",
   "name": "python",
   "nbconvert_exporter": "python",
   "pygments_lexer": "ipython3",
   "version": "3.8.8"
  }
 },
 "nbformat": 4,
 "nbformat_minor": 5
}
