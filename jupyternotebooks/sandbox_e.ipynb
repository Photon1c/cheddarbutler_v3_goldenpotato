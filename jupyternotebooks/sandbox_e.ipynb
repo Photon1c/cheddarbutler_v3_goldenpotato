{
 "cells": [
  {
   "cell_type": "code",
   "execution_count": 2,
   "id": "a5dd3ce5",
   "metadata": {},
   "outputs": [
    {
     "name": "stdout",
     "output_type": "stream",
     "text": [
      "  Symbol\n",
      "0   KRC \n",
      "1   BEPC\n",
      "2   PARA\n",
      "3   DCT \n",
      "4   AL  \n",
      "5   CTLT\n",
      "6   MOH \n",
      "7   LPX \n",
      "8   SLM \n",
      "9   GPK \n",
      "0   OSH \n",
      "1   GOCO\n",
      "2   COTY\n",
      "3   JAMF\n",
      "4   PLTK\n",
      "5   PAG \n",
      "6   NKTR\n",
      "7   SWI \n",
      "8   HLF \n",
      "9   DINO\n"
     ]
    },
    {
     "name": "stderr",
     "output_type": "stream",
     "text": [
      "<ipython-input-2-62824d10e146>:11: FutureWarning: The series.append method is deprecated and will be removed from pandas in a future version. Use pandas.concat instead.\n",
      "  df_final = dfgainers2.append(dflosers2)\n"
     ]
    }
   ],
   "source": [
    "import pandas as pd\n",
    "\n",
    "def after_hours():\n",
    "    df = pd.read_html(\"https://www.marketwatch.com/tools/screener/after-hours\")\n",
    "    dfg = df[0]\n",
    "    #create new series that keeps only first string value in 'Symbol Symbol' column, discarding anything after space\n",
    "    dfgainers = dfg['Symbol  Symbol'].str[:4]\n",
    "    dflosers = df[1]\n",
    "    dflosers2 = dflosers['Symbol  Symbol'].str[:4]\n",
    "    dfgainers2 = dfgainers\n",
    "    df_final = dfgainers2.append(dflosers2)\n",
    "    df_final2 = pd.DataFrame()\n",
    "    df_final2[\"Symbol\"] = df_final\n",
    "    df_final2[\"Symbol\"].to_csv(r'[path to your csv file with stock tickers]')\n",
    "\n",
    "\n",
    "    #test to see if full dataframe can be extracted by printing main frame\n",
    "    #print(dfg, dgl) \n",
    "    #test final list\n",
    "    print(df_final2)\n",
    "    \n",
    "after_hours()"
   ]
  },
  {
   "cell_type": "code",
   "execution_count": null,
   "id": "d197d49a",
   "metadata": {},
   "outputs": [],
   "source": []
  }
 ],
 "metadata": {
  "kernelspec": {
   "display_name": "Python 3",
   "language": "python",
   "name": "python3"
  },
  "language_info": {
   "codemirror_mode": {
    "name": "ipython",
    "version": 3
   },
   "file_extension": ".py",
   "mimetype": "text/x-python",
   "name": "python",
   "nbconvert_exporter": "python",
   "pygments_lexer": "ipython3",
   "version": "3.8.8"
  }
 },
 "nbformat": 4,
 "nbformat_minor": 5
}
