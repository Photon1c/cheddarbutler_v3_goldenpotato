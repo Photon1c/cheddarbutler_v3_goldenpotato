{
 "cells": [
  {
   "cell_type": "code",
   "execution_count": 3,
   "id": "d6058f4c",
   "metadata": {},
   "outputs": [
    {
     "name": "stdout",
     "output_type": "stream",
     "text": [
      "TSLA  moved -5.92% over the last 2 months\n"
     ]
    }
   ],
   "source": [
    "import alpaca_trade_api as tradeapi\n",
    "import config\n",
    "import logging\n",
    "from alpaca_trade_api.rest import REST, TimeFrame\n",
    "import datetime as dt\n",
    "import pandas as pd\n",
    "from datetime import date\n",
    "import datetime\n",
    "\n",
    "\n",
    "#will display the price difference of a given number of days for a particular stock\n",
    "#to do: add list capability\n",
    "\n",
    "\n",
    "\n",
    "\n",
    "#ally api endpoint creation\n",
    "api = tradeapi.REST(key_id=config.LIVE_API_KEY, secret_key=config.LIVE_SECRET_KEY, api_version='v2',\n",
    "                                        base_url=config.LIVE_API_BASE_URL)\n",
    "\n",
    "positions = api.list_positions() # get account positions\n",
    "\n",
    "\n",
    "#set start and end dates automatically\n",
    "now = date.today()\n",
    "today = now.strftime('%Y-%m-%d')\n",
    "yesterday = (now - pd.Timedelta('1day')).strftime('%Y-%m-%d')\n",
    "ninedaysago = (now - pd.Timedelta('8W')).strftime('%Y-%m-%d')\n",
    "\n",
    "\n",
    "i = \"TSLA\"\n",
    "\n",
    "quote_iter = api.get_bars(i, TimeFrame.Day, start = ninedaysago, end = yesterday, limit=9)._raw\n",
    "quote_df = pd.DataFrame(quote_iter)\n",
    "ninedago = quote_df.iloc[0]['c']\n",
    "pricenow = quote_df.iloc[8]['c']\n",
    "percent_change = (pricenow - ninedago) / ninedago * 100\n",
    "print(i, ' moved {:.2f}% over the last 2 months'.format(percent_change))\n",
    "\n"
   ]
  },
  {
   "cell_type": "markdown",
   "id": "3d21b0c9",
   "metadata": {},
   "source": [
    "# "
   ]
  },
  {
   "cell_type": "code",
   "execution_count": null,
   "id": "06ea5af7",
   "metadata": {},
   "outputs": [],
   "source": []
  }
 ],
 "metadata": {
  "kernelspec": {
   "display_name": "Python 3",
   "language": "python",
   "name": "python3"
  },
  "language_info": {
   "codemirror_mode": {
    "name": "ipython",
    "version": 3
   },
   "file_extension": ".py",
   "mimetype": "text/x-python",
   "name": "python",
   "nbconvert_exporter": "python",
   "pygments_lexer": "ipython3",
   "version": "3.8.8"
  }
 },
 "nbformat": 4,
 "nbformat_minor": 5
}
