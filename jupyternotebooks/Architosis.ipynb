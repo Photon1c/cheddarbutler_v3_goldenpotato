{
 "cells": [
  {
   "cell_type": "code",
   "execution_count": null,
   "id": "542eff1e",
   "metadata": {},
   "outputs": [],
   "source": [
    "#sandbox space to work out project structure\n",
    "#2 entry points: alpaca api or ally api\n",
    "#REPL format with displayable results when possible, saving to file when not.\n",
    "#\n",
    "\n",
    "\n",
    "\n"
   ]
  }
 ],
 "metadata": {
  "kernelspec": {
   "display_name": "Python 3",
   "language": "python",
   "name": "python3"
  },
  "language_info": {
   "codemirror_mode": {
    "name": "ipython",
    "version": 3
   },
   "file_extension": ".py",
   "mimetype": "text/x-python",
   "name": "python",
   "nbconvert_exporter": "python",
   "pygments_lexer": "ipython3",
   "version": "3.8.8"
  }
 },
 "nbformat": 4,
 "nbformat_minor": 5
}
