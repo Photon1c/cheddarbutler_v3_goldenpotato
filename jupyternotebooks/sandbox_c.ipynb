{
 "cells": [
  {
   "cell_type": "code",
   "execution_count": 5,
   "id": "d6058f4c",
   "metadata": {},
   "outputs": [
    {
     "name": "stdout",
     "output_type": "stream",
     "text": [
      "[Position({   'asset_class': 'us_equity',\n",
      "    'asset_id': '186997ab-b63c-439b-bf62-72275d1c4c27',\n",
      "    'asset_marginable': False,\n",
      "    'avg_entry_price': '107.7499004975124378',\n",
      "    'change_today': '0',\n",
      "    'cost_basis': '21657.73',\n",
      "    'current_price': '177.4',\n",
      "    'exchange': 'NYSE',\n",
      "    'lastday_price': '177.4',\n",
      "    'market_value': '35657.4',\n",
      "    'qty': '201',\n",
      "    'qty_available': '201',\n",
      "    'side': 'long',\n",
      "    'symbol': 'CVX',\n",
      "    'unrealized_intraday_pl': '0',\n",
      "    'unrealized_intraday_plpc': '0',\n",
      "    'unrealized_pl': '13999.67',\n",
      "    'unrealized_plpc': '0.6464052326813567'})]\n"
     ]
    }
   ],
   "source": [
    "import alpaca_trade_api as tradeapi\n",
    "import config\n",
    "import logging\n",
    "from alpaca_trade_api.rest import REST, TimeFrame\n",
    "import datetime as dt\n",
    "import pandas as pd\n",
    "from datetime import date\n",
    "import datetime\n",
    "\n",
    "#ally api endpoint creation\n",
    "api = tradeapi.REST(key_id=config.LIVE_API_KEY, secret_key=config.LIVE_SECRET_KEY, api_version='v2',\n",
    "                                        base_url=config.LIVE_API_BASE_URL)\n",
    "\n",
    "positions = api.list_positions()\n",
    "\n",
    "print(positions)\n",
    "\n"
   ]
  },
  {
   "cell_type": "markdown",
   "id": "3d21b0c9",
   "metadata": {},
   "source": [
    "# "
   ]
  },
  {
   "cell_type": "code",
   "execution_count": null,
   "id": "06ea5af7",
   "metadata": {},
   "outputs": [],
   "source": []
  }
 ],
 "metadata": {
  "kernelspec": {
   "display_name": "Python 3",
   "language": "python",
   "name": "python3"
  },
  "language_info": {
   "codemirror_mode": {
    "name": "ipython",
    "version": 3
   },
   "file_extension": ".py",
   "mimetype": "text/x-python",
   "name": "python",
   "nbconvert_exporter": "python",
   "pygments_lexer": "ipython3",
   "version": "3.8.8"
  }
 },
 "nbformat": 4,
 "nbformat_minor": 5
}
