{
 "cells": [
  {
   "cell_type": "code",
   "execution_count": 1,
   "id": "dc63d769",
   "metadata": {},
   "outputs": [
    {
     "ename": "ImportError",
     "evalue": "attempted relative import with no known parent package",
     "output_type": "error",
     "traceback": [
      "\u001b[1;31m---------------------------------------------------------------------------\u001b[0m",
      "\u001b[1;31mImportError\u001b[0m                               Traceback (most recent call last)",
      "Cell \u001b[1;32mIn[1], line 2\u001b[0m\n\u001b[0;32m      1\u001b[0m \u001b[38;5;28;01mimport\u001b[39;00m \u001b[38;5;21;01malpaca_trade_api\u001b[39;00m \u001b[38;5;28;01mas\u001b[39;00m \u001b[38;5;21;01mtradeapi\u001b[39;00m\n\u001b[1;32m----> 2\u001b[0m \u001b[38;5;28;01mfrom\u001b[39;00m \u001b[38;5;21;01m.\u001b[39;00m \u001b[38;5;28;01mimport\u001b[39;00m config\n\u001b[0;32m      3\u001b[0m \u001b[38;5;28;01mimport\u001b[39;00m \u001b[38;5;21;01mlogging\u001b[39;00m\n\u001b[0;32m      4\u001b[0m \u001b[38;5;28;01mfrom\u001b[39;00m \u001b[38;5;21;01malpaca_trade_api\u001b[39;00m\u001b[38;5;21;01m.\u001b[39;00m\u001b[38;5;21;01mrest\u001b[39;00m \u001b[38;5;28;01mimport\u001b[39;00m REST, TimeFrame\n",
      "\u001b[1;31mImportError\u001b[0m: attempted relative import with no known parent package"
     ]
    }
   ],
   "source": [
    "import alpaca_trade_api as tradeapi\n",
    "import config\n",
    "import logging\n",
    "from alpaca_trade_api.rest import REST, TimeFrame\n",
    "import datetime as dt\n",
    "import pandas as pd\n",
    "\n",
    "\n",
    "#ally api endpoint creation\n",
    "api = tradeapi.REST(key_id=config.LIVE_API_KEY, secret_key=config.LIVE_SECRET_KEY, api_version='v2',\n",
    "                                        base_url=config.LIVE_API_BASE_URL)\n",
    "\n",
    "excel_file = pd.read_csv(r\"C:\\Users\\Spark\\OneDrive\\Desktop\\currentprojects\\tradesetandforget\\csvs\\q2.csv\")\n",
    "\n",
    "now = date.today()\n",
    "today = now.strftime('%Y-%m-%d')\n",
    "yesterday = (now - pd.Timedelta('1day')).strftime('%Y-%m-%d')\n",
    "ninedaysago = (now - pd.Timedelta('9day')).strftime('%Y-%m-%d')\n",
    "\n",
    "\n",
    "Symbols = excel_file['symbol'].tolist()\n",
    "def start():\n",
    "    sym = []\n",
    "    dif = []\n",
    "    result_df = pd.DataFrame()\n",
    "    for i in Symbols:\n",
    "        # process quote\n",
    "        quote_iter = api.get_bars(i, TimeFrame.Day, start = ninedaysago, end = yesterday, limit=9)._raw\n",
    "        # See how much stock moved in that timeframe.\n",
    "        quote_df = pd.DataFrame(quote_iter)\n",
    "        ninedago = quote_df.iloc[0]['c']\n",
    "        pricenow = quote_df.iloc[5]['c']\n",
    "        percent_change = (pricenow - ninedago) / ninedago * 100\n",
    "        print(i, ' moved {:.2f}% over the last 9 days'.format(percent_change))\n",
    "        sym.append(str(i))\n",
    "        dif.append(percent_change)\n",
    "    result_df[\"Symbol\"] = sym\n",
    "    result_df[\"Difference\"] = dif\n",
    "    result_df[\"Difference\"] = result_df[\"Difference\"].map('{:.2f}%'.format)\n",
    "    result_df.to_csv(\"successfullscreen03172022deltastock\")\n",
    "    print(result_df)\n",
    "\n",
    "start()\n",
    "\n",
    "\n"
   ]
  },
  {
   "cell_type": "code",
   "execution_count": null,
   "id": "26a86420",
   "metadata": {},
   "outputs": [],
   "source": []
  }
 ],
 "metadata": {
  "kernelspec": {
   "display_name": "Python 3",
   "language": "python",
   "name": "python3"
  },
  "language_info": {
   "codemirror_mode": {
    "name": "ipython",
    "version": 3
   },
   "file_extension": ".py",
   "mimetype": "text/x-python",
   "name": "python",
   "nbconvert_exporter": "python",
   "pygments_lexer": "ipython3",
   "version": "3.8.8"
  }
 },
 "nbformat": 4,
 "nbformat_minor": 5
}
