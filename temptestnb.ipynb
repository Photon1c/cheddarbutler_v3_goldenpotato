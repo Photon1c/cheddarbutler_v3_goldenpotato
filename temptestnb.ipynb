{
 "cells": [
  {
   "cell_type": "code",
   "execution_count": 5,
   "id": "f6d562bf",
   "metadata": {},
   "outputs": [
    {
     "name": "stdout",
     "output_type": "stream",
     "text": [
      "('2023-01-06', '2023-01-13', '2023-01-20', '2023-01-27', '2023-02-03', '2023-02-10', '2023-02-17', '2023-03-17', '2023-04-21', '2023-05-19', '2023-06-16', '2023-07-21', '2023-09-15', '2023-12-15', '2024-01-19', '2024-03-15', '2024-06-21', '2024-09-20', '2025-01-17')\n"
     ]
    }
   ],
   "source": [
    "#temporary space to debug \n",
    "import yfinance as yf\n",
    "import alpaca_trade_api as tradeapi\n",
    "import config\n",
    "\n",
    "api = tradeapi.REST(key_id=config.LIVE_API_KEY, secret_key=config.LIVE_SECRET_KEY, api_version='v2',\n",
    "                                        base_url=config.LIVE_API_BASE_URL)\n",
    "i = \"TSLA\"\n",
    "\n",
    "#find expiration dates\n",
    "\n",
    "def option_chain_generator():\n",
    "    chain_symbol = yf.Ticker(i)\n",
    "    chain = chain_symbol.options\n",
    "    print(chain)\n",
    "\n",
    "option_chain_generator()"
   ]
  },
  {
   "cell_type": "code",
   "execution_count": null,
   "id": "b7e16dd0",
   "metadata": {},
   "outputs": [],
   "source": []
  }
 ],
 "metadata": {
  "kernelspec": {
   "display_name": "Python 3",
   "language": "python",
   "name": "python3"
  },
  "language_info": {
   "codemirror_mode": {
    "name": "ipython",
    "version": 3
   },
   "file_extension": ".py",
   "mimetype": "text/x-python",
   "name": "python",
   "nbconvert_exporter": "python",
   "pygments_lexer": "ipython3",
   "version": "3.8.8"
  }
 },
 "nbformat": 4,
 "nbformat_minor": 5
}
